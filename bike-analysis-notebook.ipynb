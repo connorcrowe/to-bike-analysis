{
 "cells": [
  {
   "cell_type": "markdown",
   "id": "3f3d77ab-1b34-47f1-9350-fc23954c09e0",
   "metadata": {},
   "source": [
    "# Toronto Bike Share Analysis\n",
    "\n"
   ]
  },
  {
   "cell_type": "code",
   "execution_count": 20,
   "id": "45b4e16c-60f2-433e-b132-f5a74e40dccc",
   "metadata": {},
   "outputs": [
    {
     "name": "stdout",
     "output_type": "stream",
     "text": [
      "Environment variables loaded properly.\n"
     ]
    }
   ],
   "source": [
    "import os\n",
    "from dotenv import load_dotenv\n",
    "import pandas as pd\n",
    "from sqlalchemy import create_engine\n",
    "\n",
    "# Load Environment Variables\n",
    "load_dotenv()\n",
    "if os.environ['ENV_FLG']: print('Environment variables loaded properly.')\n",
    "else: print('ERROR: Environment variables failed to load.')"
   ]
  },
  {
   "cell_type": "code",
   "execution_count": 21,
   "id": "573eadca",
   "metadata": {},
   "outputs": [],
   "source": [
    "def query_db(query):\n",
    "    # Execute query on PostgreSQL database and return a pandas dataframe\n",
    "    db_name = os.environ['DB_NAME']\n",
    "    db_user = os.environ['DB_USER']\n",
    "    db_pass = os.environ['DB_PASS']\n",
    "    db_host = os.environ['DB_HOST']\n",
    "    db_port = os.environ['DB_PORT']\n",
    "\n",
    "    engine = create_engine(f'postgresql://{db_user}:{db_pass}@{db_host}:{db_port}/{db_name}')\n",
    "    data_frame = pd.read_sql_query(query, engine)\n",
    "    return data_frame"
   ]
  }
 ],
 "metadata": {
  "kernelspec": {
   "display_name": "Python 3",
   "language": "python",
   "name": "python3"
  },
  "language_info": {
   "codemirror_mode": {
    "name": "ipython",
    "version": 3
   },
   "file_extension": ".py",
   "mimetype": "text/x-python",
   "name": "python",
   "nbconvert_exporter": "python",
   "pygments_lexer": "ipython3",
   "version": "3.13.0"
  }
 },
 "nbformat": 4,
 "nbformat_minor": 5
}
