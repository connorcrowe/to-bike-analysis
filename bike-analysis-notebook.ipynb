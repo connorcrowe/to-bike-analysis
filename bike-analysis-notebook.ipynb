{
 "cells": [
  {
   "cell_type": "markdown",
   "id": "3f3d77ab-1b34-47f1-9350-fc23954c09e0",
   "metadata": {},
   "source": [
    "# Toronto Bike Share Analysis\n",
    "This notebook is part of a broader analysis of Toronto Bike Share usage, and what it can tell about the impact to traffic if certain bicycle infrastructure is removed in Toronto.\n",
    "The final story can be found here:\n",
    "This is the calculation of some descriptive statistics used in the story. The story also includes some analysis performed in QGIS. \n"
   ]
  },
  {
   "cell_type": "code",
   "execution_count": 11,
   "id": "45b4e16c-60f2-433e-b132-f5a74e40dccc",
   "metadata": {},
   "outputs": [
    {
     "name": "stdout",
     "output_type": "stream",
     "text": [
      "Environment variables loaded properly.\n"
     ]
    }
   ],
   "source": [
    "import os\n",
    "from dotenv import load_dotenv\n",
    "import pandas as pd\n",
    "from sqlalchemy import create_engine\n",
    "import psycopg\n",
    "import plotly.express as px\n",
    "\n",
    "# Load Environment Variables\n",
    "load_dotenv()\n",
    "if os.environ['ENV_FLG']: print('Environment variables loaded properly.')\n",
    "else: print('ERROR: Environment variables failed to load.')"
   ]
  },
  {
   "cell_type": "markdown",
   "id": "55c96622",
   "metadata": {},
   "source": [
    "## Import Data"
   ]
  },
  {
   "cell_type": "code",
   "execution_count": 2,
   "id": "573eadca",
   "metadata": {},
   "outputs": [],
   "source": [
    "def query_db(query):\n",
    "    # Execute query on PostgreSQL database and return a pandas dataframe\n",
    "    db_name = os.environ['DB_NAME']\n",
    "    db_user = os.environ['DB_USER']\n",
    "    db_pass = os.environ['DB_PASS']\n",
    "    db_host = os.environ['DB_HOST']\n",
    "    db_port = os.environ['DB_PORT']\n",
    "\n",
    "    engine = create_engine(f'postgresql://{db_user}:{db_pass}@{db_host}:{db_port}/{db_name}')\n",
    "    data_frame = pd.read_sql_query(query, engine)\n",
    "    return data_frame\n",
    "\n",
    "data = query_db('select * from bike_trips;')"
   ]
  },
  {
   "cell_type": "code",
   "execution_count": 12,
   "id": "eba327ee",
   "metadata": {},
   "outputs": [
    {
     "data": {
      "text/html": [
       "<div>\n",
       "<style scoped>\n",
       "    .dataframe tbody tr th:only-of-type {\n",
       "        vertical-align: middle;\n",
       "    }\n",
       "\n",
       "    .dataframe tbody tr th {\n",
       "        vertical-align: top;\n",
       "    }\n",
       "\n",
       "    .dataframe thead th {\n",
       "        text-align: right;\n",
       "    }\n",
       "</style>\n",
       "<table border=\"1\" class=\"dataframe\">\n",
       "  <thead>\n",
       "    <tr style=\"text-align: right;\">\n",
       "      <th></th>\n",
       "      <th>trip_id</th>\n",
       "      <th>trip_duration</th>\n",
       "      <th>start_station_id</th>\n",
       "      <th>start_time</th>\n",
       "      <th>end_station_id</th>\n",
       "      <th>end_time</th>\n",
       "      <th>user_type</th>\n",
       "    </tr>\n",
       "  </thead>\n",
       "  <tbody>\n",
       "    <tr>\n",
       "      <th>0</th>\n",
       "      <td>14805109</td>\n",
       "      <td>4335</td>\n",
       "      <td>7334</td>\n",
       "      <td>2022-01-01 00:02:00</td>\n",
       "      <td>7269.0</td>\n",
       "      <td>2022-01-01 01:15:00</td>\n",
       "      <td>Casual Member</td>\n",
       "    </tr>\n",
       "    <tr>\n",
       "      <th>1</th>\n",
       "      <td>14805110</td>\n",
       "      <td>126</td>\n",
       "      <td>7443</td>\n",
       "      <td>2022-01-01 00:02:00</td>\n",
       "      <td>7270.0</td>\n",
       "      <td>2022-01-01 00:05:00</td>\n",
       "      <td>Annual Member</td>\n",
       "    </tr>\n",
       "    <tr>\n",
       "      <th>2</th>\n",
       "      <td>14805112</td>\n",
       "      <td>942</td>\n",
       "      <td>7399</td>\n",
       "      <td>2022-01-01 00:04:00</td>\n",
       "      <td>7686.0</td>\n",
       "      <td>2022-01-01 00:19:00</td>\n",
       "      <td>Annual Member</td>\n",
       "    </tr>\n",
       "    <tr>\n",
       "      <th>3</th>\n",
       "      <td>14805113</td>\n",
       "      <td>4256</td>\n",
       "      <td>7334</td>\n",
       "      <td>2022-01-01 00:04:00</td>\n",
       "      <td>7269.0</td>\n",
       "      <td>2022-01-01 01:15:00</td>\n",
       "      <td>Casual Member</td>\n",
       "    </tr>\n",
       "    <tr>\n",
       "      <th>4</th>\n",
       "      <td>14805114</td>\n",
       "      <td>4353</td>\n",
       "      <td>7334</td>\n",
       "      <td>2022-01-01 00:05:00</td>\n",
       "      <td>7038.0</td>\n",
       "      <td>2022-01-01 01:17:00</td>\n",
       "      <td>Casual Member</td>\n",
       "    </tr>\n",
       "  </tbody>\n",
       "</table>\n",
       "</div>"
      ],
      "text/plain": [
       "    trip_id  trip_duration  start_station_id          start_time  \\\n",
       "0  14805109           4335              7334 2022-01-01 00:02:00   \n",
       "1  14805110            126              7443 2022-01-01 00:02:00   \n",
       "2  14805112            942              7399 2022-01-01 00:04:00   \n",
       "3  14805113           4256              7334 2022-01-01 00:04:00   \n",
       "4  14805114           4353              7334 2022-01-01 00:05:00   \n",
       "\n",
       "   end_station_id            end_time      user_type  \n",
       "0          7269.0 2022-01-01 01:15:00  Casual Member  \n",
       "1          7270.0 2022-01-01 00:05:00  Annual Member  \n",
       "2          7686.0 2022-01-01 00:19:00  Annual Member  \n",
       "3          7269.0 2022-01-01 01:15:00  Casual Member  \n",
       "4          7038.0 2022-01-01 01:17:00  Casual Member  "
      ]
     },
     "execution_count": 12,
     "metadata": {},
     "output_type": "execute_result"
    }
   ],
   "source": [
    "# Filter columns\n",
    "columns = ['trip_id','trip_duration','start_station_id','start_time','end_station_id','end_time','user_type']\n",
    "X = data[columns]\n",
    "X.head()"
   ]
  },
  {
   "cell_type": "code",
   "execution_count": 13,
   "id": "ae68138c",
   "metadata": {},
   "outputs": [
    {
     "name": "stdout",
     "output_type": "stream",
     "text": [
      "end_station_id    4318\n",
      "dtype: int64\n"
     ]
    }
   ],
   "source": [
    "# Check missing values\n",
    "missing_val_count_by_column = (X.isnull().sum())\n",
    "print(missing_val_count_by_column[missing_val_count_by_column > 0])"
   ]
  },
  {
   "cell_type": "markdown",
   "id": "0bf6447c",
   "metadata": {},
   "source": [
    "## Descriptive Analysis\n",
    "### Statistics\n",
    "- Total trips (2022-2024)\n",
    "- Average trips per day \n",
    "### Plots\n",
    "1. Trips per month over 2022-2024 (to see growth in usage)\n",
    "2. Average trips per month (to compare winter usage)\n",
    "3. Average trips by day of week (to determine commuter usage)\n",
    "4. Trips by hour of day (to determine commuter usage)"
   ]
  },
  {
   "cell_type": "code",
   "execution_count": null,
   "id": "b74457ca",
   "metadata": {},
   "outputs": [
    {
     "name": "stdout",
     "output_type": "stream",
     "text": [
      "Total Trips (01-2022 to 09-2024):\t15,675,998\n",
      "Avg trips per day:\t\t\t15,614\n"
     ]
    }
   ],
   "source": [
    "# Total Trips (2022-2024)\n",
    "print(f'Total Trips (01-2022 to 09-2024):\\t{len(X):,}')\n",
    "\n",
    "# Trips per Day \n",
    "trips_per_day = X.groupby(X.start_time.dt.date)['trip_id'].count()\n",
    "mean_trips_per_day = trips_per_day.mean()\n",
    "print(f'Avg trips per day:\\t\\t\\t{mean_trips_per_day:,.0f}')\n",
    "\n",
    "# Trips during 'rush hours' on Weekdays\n",
    "mask_morn_rush_hour = ((X.start_time.dt.time >= pd.Timestamp('07:00:00').time()) & (X.start_time.dt.time <= pd.Timestamp('09:00:00').time()))   # Define morning rush hour times\n",
    "mask_aftn_rush_hour = ((X.start_time.dt.time >= pd.Timestamp('16:00:00').time()) & (X.start_time.dt.time <= pd.Timestamp('18:00:00').time()))   # Define afternoon rush hour times\n",
    "X_rush_hour_trips = X.loc[mask_morn_rush_hour | mask_aftn_rush_hour]\n",
    "\n",
    "rush_hour_trips_per_day = X_rush_hour_trips.groupby(X.start_time.dt.date)['trip_id'].count()\n",
    "mean_rush_hour_trips_per_day = rush_hour_trips_per_day.mean()\n",
    "print(f'Average trips during \\'rush hour\\' per day: \\t{mean_rush_hour_trips_per_day:,.0f}')"
   ]
  },
  {
   "cell_type": "code",
   "execution_count": null,
   "id": "e3d546be",
   "metadata": {},
   "outputs": [],
   "source": [
    "# Plot: Trips by Month, 2022-2024\n",
    "plt_trips_histogram = px.histogram(X, x=\"start_time\", y=\"trip_id\", histfunc=\"count\")\n",
    "plt_trips_histogram.update_traces(xbins_size=\"M1\")\n",
    "plt_trips_histogram.show()"
   ]
  },
  {
   "cell_type": "code",
   "execution_count": null,
   "id": "8d2b0f18",
   "metadata": {},
   "outputs": [],
   "source": [
    "# Plot: Average Trips per Month\n",
    "trips_by_year_month = X.groupby([X.start_time.dt.year, X.start_time.dt.month])['trip_id'].count().rename_axis([\"year\",\"month\"])\n",
    "mean_trips_month = trips_by_year_month.reset_index().groupby('month')['trip_id'].mean()\n",
    "\n",
    "plt_trips_by_month = px.bar(mean_trips_month)\n",
    "plt_trips_by_month.show()"
   ]
  },
  {
   "cell_type": "code",
   "execution_count": null,
   "id": "988c9341",
   "metadata": {},
   "outputs": [],
   "source": [
    "# Plot: Trips by Day of the Week\n",
    "trips_by_day = X.groupby(X.start_time.dt.day_of_week)['trip_id'].count()\n",
    "plt_trips_by_day = px.bar(trips_by_day)\n",
    "plt_trips_by_day.show()"
   ]
  },
  {
   "cell_type": "code",
   "execution_count": null,
   "id": "3e9b0372",
   "metadata": {},
   "outputs": [],
   "source": [
    "# Trip Starts by Hour of Day\n",
    "trips_by_hour = X.groupby(X.start_time.dt.hour)['trip_id'].count()\n",
    "plt_trips_by_hour = px.bar(trips_by_hour)\n",
    "plt_trips_by_hour.show()"
   ]
  }
 ],
 "metadata": {
  "kernelspec": {
   "display_name": "Python 3",
   "language": "python",
   "name": "python3"
  },
  "language_info": {
   "codemirror_mode": {
    "name": "ipython",
    "version": 3
   },
   "file_extension": ".py",
   "mimetype": "text/x-python",
   "name": "python",
   "nbconvert_exporter": "python",
   "pygments_lexer": "ipython3",
   "version": "3.13.0"
  }
 },
 "nbformat": 4,
 "nbformat_minor": 5
}
