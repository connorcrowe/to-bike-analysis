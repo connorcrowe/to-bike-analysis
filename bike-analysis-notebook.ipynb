{
 "cells": [
  {
   "cell_type": "markdown",
   "id": "3f3d77ab-1b34-47f1-9350-fc23954c09e0",
   "metadata": {},
   "source": [
    "# Toronto Bike Share Analysis\n",
    "\n"
   ]
  },
  {
   "cell_type": "code",
   "execution_count": 32,
   "id": "45b4e16c-60f2-433e-b132-f5a74e40dccc",
   "metadata": {},
   "outputs": [
    {
     "name": "stdout",
     "output_type": "stream",
     "text": [
      "Environment variables loaded properly.\n"
     ]
    }
   ],
   "source": [
    "import os\n",
    "from dotenv import load_dotenv\n",
    "import pandas as pd\n",
    "from sqlalchemy import create_engine\n",
    "import psycopg\n",
    "import plotly.express as px\n",
    "\n",
    "# Load Environment Variables\n",
    "load_dotenv()\n",
    "if os.environ['ENV_FLG']: print('Environment variables loaded properly.')\n",
    "else: print('ERROR: Environment variables failed to load.')"
   ]
  },
  {
   "cell_type": "code",
   "execution_count": 11,
   "id": "573eadca",
   "metadata": {},
   "outputs": [],
   "source": [
    "def query_db(query):\n",
    "    # Execute query on PostgreSQL database and return a pandas dataframe\n",
    "    db_name = os.environ['DB_NAME']\n",
    "    db_user = os.environ['DB_USER']\n",
    "    db_pass = os.environ['DB_PASS']\n",
    "    db_host = os.environ['DB_HOST']\n",
    "    db_port = os.environ['DB_PORT']\n",
    "\n",
    "    engine = create_engine(f'postgresql://{db_user}:{db_pass}@{db_host}:{db_port}/{db_name}')\n",
    "    data_frame = pd.read_sql_query(query, engine)\n",
    "    return data_frame"
   ]
  },
  {
   "cell_type": "code",
   "execution_count": 12,
   "id": "77fb92d4",
   "metadata": {},
   "outputs": [],
   "source": [
    "data = query_db('select * from bike_trips;')"
   ]
  },
  {
   "cell_type": "code",
   "execution_count": 13,
   "id": "eba327ee",
   "metadata": {},
   "outputs": [
    {
     "data": {
      "text/html": [
       "<div>\n",
       "<style scoped>\n",
       "    .dataframe tbody tr th:only-of-type {\n",
       "        vertical-align: middle;\n",
       "    }\n",
       "\n",
       "    .dataframe tbody tr th {\n",
       "        vertical-align: top;\n",
       "    }\n",
       "\n",
       "    .dataframe thead th {\n",
       "        text-align: right;\n",
       "    }\n",
       "</style>\n",
       "<table border=\"1\" class=\"dataframe\">\n",
       "  <thead>\n",
       "    <tr style=\"text-align: right;\">\n",
       "      <th></th>\n",
       "      <th>trip_id</th>\n",
       "      <th>trip_duration</th>\n",
       "      <th>start_station_id</th>\n",
       "      <th>start_time</th>\n",
       "      <th>end_station_id</th>\n",
       "      <th>end_time</th>\n",
       "      <th>user_type</th>\n",
       "    </tr>\n",
       "  </thead>\n",
       "  <tbody>\n",
       "    <tr>\n",
       "      <th>0</th>\n",
       "      <td>14805109</td>\n",
       "      <td>4335</td>\n",
       "      <td>7334</td>\n",
       "      <td>2022-01-01 00:02:00</td>\n",
       "      <td>7269.0</td>\n",
       "      <td>2022-01-01 01:15:00</td>\n",
       "      <td>Casual Member</td>\n",
       "    </tr>\n",
       "    <tr>\n",
       "      <th>1</th>\n",
       "      <td>14805110</td>\n",
       "      <td>126</td>\n",
       "      <td>7443</td>\n",
       "      <td>2022-01-01 00:02:00</td>\n",
       "      <td>7270.0</td>\n",
       "      <td>2022-01-01 00:05:00</td>\n",
       "      <td>Annual Member</td>\n",
       "    </tr>\n",
       "    <tr>\n",
       "      <th>2</th>\n",
       "      <td>14805112</td>\n",
       "      <td>942</td>\n",
       "      <td>7399</td>\n",
       "      <td>2022-01-01 00:04:00</td>\n",
       "      <td>7686.0</td>\n",
       "      <td>2022-01-01 00:19:00</td>\n",
       "      <td>Annual Member</td>\n",
       "    </tr>\n",
       "    <tr>\n",
       "      <th>3</th>\n",
       "      <td>14805113</td>\n",
       "      <td>4256</td>\n",
       "      <td>7334</td>\n",
       "      <td>2022-01-01 00:04:00</td>\n",
       "      <td>7269.0</td>\n",
       "      <td>2022-01-01 01:15:00</td>\n",
       "      <td>Casual Member</td>\n",
       "    </tr>\n",
       "    <tr>\n",
       "      <th>4</th>\n",
       "      <td>14805114</td>\n",
       "      <td>4353</td>\n",
       "      <td>7334</td>\n",
       "      <td>2022-01-01 00:05:00</td>\n",
       "      <td>7038.0</td>\n",
       "      <td>2022-01-01 01:17:00</td>\n",
       "      <td>Casual Member</td>\n",
       "    </tr>\n",
       "  </tbody>\n",
       "</table>\n",
       "</div>"
      ],
      "text/plain": [
       "    trip_id  trip_duration  start_station_id          start_time  \\\n",
       "0  14805109           4335              7334 2022-01-01 00:02:00   \n",
       "1  14805110            126              7443 2022-01-01 00:02:00   \n",
       "2  14805112            942              7399 2022-01-01 00:04:00   \n",
       "3  14805113           4256              7334 2022-01-01 00:04:00   \n",
       "4  14805114           4353              7334 2022-01-01 00:05:00   \n",
       "\n",
       "   end_station_id            end_time      user_type  \n",
       "0          7269.0 2022-01-01 01:15:00  Casual Member  \n",
       "1          7270.0 2022-01-01 00:05:00  Annual Member  \n",
       "2          7686.0 2022-01-01 00:19:00  Annual Member  \n",
       "3          7269.0 2022-01-01 01:15:00  Casual Member  \n",
       "4          7038.0 2022-01-01 01:17:00  Casual Member  "
      ]
     },
     "execution_count": 13,
     "metadata": {},
     "output_type": "execute_result"
    }
   ],
   "source": [
    "columns = ['trip_id','trip_duration','start_station_id','start_time','end_station_id','end_time','user_type']\n",
    "X = data[columns]\n",
    "X.head()"
   ]
  },
  {
   "cell_type": "code",
   "execution_count": 17,
   "id": "ae68138c",
   "metadata": {},
   "outputs": [
    {
     "name": "stdout",
     "output_type": "stream",
     "text": [
      "end_station_id    4318\n",
      "dtype: int64\n"
     ]
    }
   ],
   "source": [
    "missing_val_count_by_column = (X.isnull().sum())\n",
    "print(missing_val_count_by_column[missing_val_count_by_column > 0])"
   ]
  },
  {
   "cell_type": "markdown",
   "id": "0bf6447c",
   "metadata": {},
   "source": [
    "## Descriptive Analysis\n",
    "- Total trips (2022-2024)\n",
    "- Users per month (2022-2024)\n",
    "    - Graph \n",
    "\n",
    "## Winter Question\n",
    "- How much does usage decrease in winter?"
   ]
  },
  {
   "cell_type": "code",
   "execution_count": 16,
   "id": "b74457ca",
   "metadata": {},
   "outputs": [
    {
     "name": "stdout",
     "output_type": "stream",
     "text": [
      "Total Trips (01-2022 to 09-2024): 15,675,998\n"
     ]
    }
   ],
   "source": [
    "print(f'Total Trips (01-2022 to 09-2024): {len(X):,}')"
   ]
  },
  {
   "cell_type": "code",
   "execution_count": null,
   "id": "e3d546be",
   "metadata": {},
   "outputs": [],
   "source": [
    "fig = px.histogram(X, x=\"start_time\", y=\"trip_id\", histfunc=\"count\")\n",
    "fig.update_traces(xbins_size=\"M1\")\n",
    "\n",
    "fig.show()"
   ]
  }
 ],
 "metadata": {
  "kernelspec": {
   "display_name": "Python 3",
   "language": "python",
   "name": "python3"
  },
  "language_info": {
   "codemirror_mode": {
    "name": "ipython",
    "version": 3
   },
   "file_extension": ".py",
   "mimetype": "text/x-python",
   "name": "python",
   "nbconvert_exporter": "python",
   "pygments_lexer": "ipython3",
   "version": "3.13.0"
  }
 },
 "nbformat": 4,
 "nbformat_minor": 5
}
