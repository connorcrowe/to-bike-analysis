{
 "cells": [
  {
   "cell_type": "markdown",
   "id": "3f3d77ab-1b34-47f1-9350-fc23954c09e0",
   "metadata": {},
   "source": [
    "# Toronto Bike Share Analysis\n",
    "This notebook is part of a broader analysis of Toronto Bike Share usage, and what it can tell about the impact to traffic if certain bicycle infrastructure is removed in Toronto.\n",
    "The final story can be found here:\n",
    "This is the calculation of some descriptive statistics used in the story. The story also includes some analysis performed in QGIS. \n"
   ]
  },
  {
   "cell_type": "code",
   "execution_count": 1,
   "id": "45b4e16c-60f2-433e-b132-f5a74e40dccc",
   "metadata": {},
   "outputs": [
    {
     "name": "stdout",
     "output_type": "stream",
     "text": [
      "Environment variables loaded properly.\n"
     ]
    }
   ],
   "source": [
    "import os\n",
    "from dotenv import load_dotenv\n",
    "import pandas as pd\n",
    "from sqlalchemy import create_engine\n",
    "import psycopg\n",
    "import plotly.express as px\n",
    "\n",
    "# Load Environment Variables\n",
    "load_dotenv()\n",
    "if os.environ['ENV_FLG']: print('Environment variables loaded properly.')\n",
    "else: print('ERROR: Environment variables failed to load.')"
   ]
  },
  {
   "cell_type": "markdown",
   "id": "55c96622",
   "metadata": {},
   "source": [
    "## Import Data"
   ]
  },
  {
   "cell_type": "code",
   "execution_count": 2,
   "id": "573eadca",
   "metadata": {},
   "outputs": [],
   "source": [
    "def query_db(query):\n",
    "    # Execute query on PostgreSQL database and return a pandas dataframe\n",
    "    db_name = os.environ['DB_NAME']\n",
    "    db_user = os.environ['DB_USER']\n",
    "    db_pass = os.environ['DB_PASS']\n",
    "    db_host = os.environ['DB_HOST']\n",
    "    db_port = os.environ['DB_PORT']\n",
    "\n",
    "    engine = create_engine(f'postgresql://{db_user}:{db_pass}@{db_host}:{db_port}/{db_name}')\n",
    "    data_frame = pd.read_sql_query(query, engine)\n",
    "    return data_frame\n",
    "\n",
    "data = query_db('select * from bike_trips;')"
   ]
  },
  {
   "cell_type": "code",
   "execution_count": 3,
   "id": "eba327ee",
   "metadata": {},
   "outputs": [
    {
     "data": {
      "text/html": [
       "<div>\n",
       "<style scoped>\n",
       "    .dataframe tbody tr th:only-of-type {\n",
       "        vertical-align: middle;\n",
       "    }\n",
       "\n",
       "    .dataframe tbody tr th {\n",
       "        vertical-align: top;\n",
       "    }\n",
       "\n",
       "    .dataframe thead th {\n",
       "        text-align: right;\n",
       "    }\n",
       "</style>\n",
       "<table border=\"1\" class=\"dataframe\">\n",
       "  <thead>\n",
       "    <tr style=\"text-align: right;\">\n",
       "      <th></th>\n",
       "      <th>trip_id</th>\n",
       "      <th>trip_duration</th>\n",
       "      <th>start_station_id</th>\n",
       "      <th>start_time</th>\n",
       "      <th>end_station_id</th>\n",
       "      <th>end_time</th>\n",
       "      <th>user_type</th>\n",
       "    </tr>\n",
       "  </thead>\n",
       "  <tbody>\n",
       "    <tr>\n",
       "      <th>0</th>\n",
       "      <td>30841620</td>\n",
       "      <td>657</td>\n",
       "      <td>7084</td>\n",
       "      <td>2024-08-03 16:58:00</td>\n",
       "      <td>7174.0</td>\n",
       "      <td>2024-08-03 17:09:00</td>\n",
       "      <td>Casual Member</td>\n",
       "    </tr>\n",
       "    <tr>\n",
       "      <th>1</th>\n",
       "      <td>30841621</td>\n",
       "      <td>4348</td>\n",
       "      <td>7354</td>\n",
       "      <td>2024-08-03 16:58:00</td>\n",
       "      <td>7354.0</td>\n",
       "      <td>2024-08-03 18:11:00</td>\n",
       "      <td>Casual Member</td>\n",
       "    </tr>\n",
       "    <tr>\n",
       "      <th>2</th>\n",
       "      <td>30841622</td>\n",
       "      <td>976</td>\n",
       "      <td>7036</td>\n",
       "      <td>2024-08-03 16:58:00</td>\n",
       "      <td>7098.0</td>\n",
       "      <td>2024-08-03 17:15:00</td>\n",
       "      <td>Casual Member</td>\n",
       "    </tr>\n",
       "    <tr>\n",
       "      <th>3</th>\n",
       "      <td>30841624</td>\n",
       "      <td>1660</td>\n",
       "      <td>7788</td>\n",
       "      <td>2024-08-03 16:59:00</td>\n",
       "      <td>7171.0</td>\n",
       "      <td>2024-08-03 17:26:00</td>\n",
       "      <td>Casual Member</td>\n",
       "    </tr>\n",
       "    <tr>\n",
       "      <th>4</th>\n",
       "      <td>30841626</td>\n",
       "      <td>641</td>\n",
       "      <td>7161</td>\n",
       "      <td>2024-08-03 16:59:00</td>\n",
       "      <td>7791.0</td>\n",
       "      <td>2024-08-03 17:09:00</td>\n",
       "      <td>Casual Member</td>\n",
       "    </tr>\n",
       "  </tbody>\n",
       "</table>\n",
       "</div>"
      ],
      "text/plain": [
       "    trip_id  trip_duration  start_station_id          start_time  \\\n",
       "0  30841620            657              7084 2024-08-03 16:58:00   \n",
       "1  30841621           4348              7354 2024-08-03 16:58:00   \n",
       "2  30841622            976              7036 2024-08-03 16:58:00   \n",
       "3  30841624           1660              7788 2024-08-03 16:59:00   \n",
       "4  30841626            641              7161 2024-08-03 16:59:00   \n",
       "\n",
       "   end_station_id            end_time      user_type  \n",
       "0          7174.0 2024-08-03 17:09:00  Casual Member  \n",
       "1          7354.0 2024-08-03 18:11:00  Casual Member  \n",
       "2          7098.0 2024-08-03 17:15:00  Casual Member  \n",
       "3          7171.0 2024-08-03 17:26:00  Casual Member  \n",
       "4          7791.0 2024-08-03 17:09:00  Casual Member  "
      ]
     },
     "execution_count": 3,
     "metadata": {},
     "output_type": "execute_result"
    }
   ],
   "source": [
    "# Filter columns\n",
    "columns = ['trip_id','trip_duration','start_station_id','start_time','end_station_id','end_time','user_type']\n",
    "X = data[columns]\n",
    "X.head()"
   ]
  },
  {
   "cell_type": "code",
   "execution_count": 4,
   "id": "ae68138c",
   "metadata": {},
   "outputs": [
    {
     "name": "stdout",
     "output_type": "stream",
     "text": [
      "end_station_id    4318\n",
      "dtype: int64\n"
     ]
    }
   ],
   "source": [
    "# Check missing values\n",
    "missing_val_count_by_column = (X.isnull().sum())\n",
    "print(missing_val_count_by_column[missing_val_count_by_column > 0])"
   ]
  },
  {
   "cell_type": "markdown",
   "id": "0bf6447c",
   "metadata": {},
   "source": [
    "## Descriptive Analysis\n",
    "### Statistics\n",
    "- Total trips (2022-2024)\n",
    "- Average trips per day \n",
    "### Plots\n",
    "1. Trips per month over 2022-2024 (to see growth in usage)\n",
    "2. Average trips per month (to compare winter usage)\n",
    "3. Average trips by day of week (to determine commuter usage)\n",
    "4. Trips by hour of day (to determine commuter usage)"
   ]
  },
  {
   "cell_type": "code",
   "execution_count": 5,
   "id": "b74457ca",
   "metadata": {},
   "outputs": [
    {
     "name": "stdout",
     "output_type": "stream",
     "text": [
      "Total Trips (01-2022 to 09-2024):\t15,675,998\n",
      "Avg trips per day:\t\t\t15,614\n",
      "Total trips 2024:\t\t5,342,388\n",
      "Total trips 2023:\t\t5,713,141\n",
      "Total trips 2022:\t\t4,620,469\n",
      "Avg trips per day (2024):\t\t19,498\n",
      "Avg trips per day (2023):\t\t15,652\n",
      "Avg trips per day (2022):\t\t12,659\n"
     ]
    }
   ],
   "source": [
    "# Overall: Total Trips (2022-2024)\n",
    "print(f'Total Trips (01-2022 to 09-2024):\\t{len(X):,}')\n",
    "\n",
    "# Overall: Avg Trips per Day \n",
    "trips_per_day = X.groupby(X.start_time.dt.date)['trip_id'].count()\n",
    "mean_trips_per_day = trips_per_day.mean()\n",
    "print(f'Avg trips per day:\\t\\t\\t{mean_trips_per_day:,.0f}')\n",
    "\n",
    "# Trips per Year\n",
    "print(f'Total trips 2024:\\t\\t{len(X[X.start_time.dt.year == 2024]):,}')\n",
    "print(f'Total trips 2023:\\t\\t{len(X[X.start_time.dt.year == 2023]):,}')\n",
    "print(f'Total trips 2022:\\t\\t{len(X[X.start_time.dt.year == 2022]):,}')\n",
    "\n",
    "# Trips per Day\n",
    "print(f'Avg trips per day (2024):\\t\\t{(X[X.start_time.dt.year == 2024].groupby(X.start_time.dt.date)['trip_id'].count()).mean():,.0f}')\n",
    "print(f'Avg trips per day (2023):\\t\\t{(X[X.start_time.dt.year == 2023].groupby(X.start_time.dt.date)['trip_id'].count()).mean():,.0f}')\n",
    "print(f'Avg trips per day (2022):\\t\\t{(X[X.start_time.dt.year == 2022].groupby(X.start_time.dt.date)['trip_id'].count()).mean():,.0f}')"
   ]
  },
  {
   "cell_type": "code",
   "execution_count": 6,
   "id": "0f8e0c35",
   "metadata": {},
   "outputs": [
    {
     "name": "stdout",
     "output_type": "stream",
     "text": [
      "Total trips during 'rush hour': \t4,326,182\n",
      "% of all trips during 'rush hour': \t0.28\n",
      "Average trips during 'rush hour' per day: \t4,309\n"
     ]
    }
   ],
   "source": [
    "# Trips during 'rush hours' on Weekdays\n",
    "mask_morn_rush_hour = ((X.start_time.dt.time >= pd.Timestamp('07:00:00').time()) & (X.start_time.dt.time <= pd.Timestamp('09:00:00').time()))   # Define morning rush hour times\n",
    "mask_aftn_rush_hour = ((X.start_time.dt.time >= pd.Timestamp('16:00:00').time()) & (X.start_time.dt.time <= pd.Timestamp('18:00:00').time()))   # Define afternoon rush hour times\n",
    "X_rush_hour_trips = X.loc[mask_morn_rush_hour | mask_aftn_rush_hour]\n",
    "\n",
    "rush_hour_trips_per_day = X_rush_hour_trips.groupby(X.start_time.dt.date)['trip_id'].count()\n",
    "mean_rush_hour_trips_per_day = rush_hour_trips_per_day.mean()\n",
    "print(f'Total trips during \\'rush hour\\': \\t{rush_hour_trips_per_day.sum():,}')\n",
    "print(f'% of all trips during \\'rush hour\\': \\t{rush_hour_trips_per_day.sum()/len(X):,.2f}')\n",
    "print(f'Average trips during \\'rush hour\\' per day: \\t{mean_rush_hour_trips_per_day:,.0f}')"
   ]
  },
  {
   "cell_type": "code",
   "execution_count": null,
   "id": "e3d546be",
   "metadata": {},
   "outputs": [],
   "source": [
    "# Plot: Trips by Month, 2022-2024\n",
    "plt_trips_histogram = px.histogram(X, x=\"start_time\", y=\"trip_id\", histfunc=\"count\",\n",
    "                                   template=\"simple_white\", title=\"Bike Share Ridership, 01-2022 through 09-2024\",\n",
    "                                   labels={\n",
    "                                       \"start_time\": \"Month / Year\",\n",
    "                                       \"trip_id\": \"Total trips\"\n",
    "                                   })\n",
    "plt_trips_histogram.update_traces(xbins_size=\"M1\")\n",
    "plt_trips_histogram.update_xaxes(dtick=\"M1\")\n",
    "plt_trips_histogram.show()"
   ]
  },
  {
   "cell_type": "code",
   "execution_count": null,
   "id": "8d2b0f18",
   "metadata": {},
   "outputs": [],
   "source": [
    "# Plot: Average Trips per Month\n",
    "trips_by_year_month = X.groupby([X.start_time.dt.year, X.start_time.dt.month])['trip_id'].count().rename_axis([\"year\",\"month\"])\n",
    "mean_trips_month = trips_by_year_month.reset_index().groupby('month')['trip_id'].mean()\n",
    "\n",
    "plt_trips_by_month = px.bar(mean_trips_month)\n",
    "plt_trips_by_month.show()"
   ]
  },
  {
   "cell_type": "code",
   "execution_count": null,
   "id": "988c9341",
   "metadata": {},
   "outputs": [],
   "source": [
    "# Plot: Trips by Day of the Week\n",
    "trips_by_day = X.groupby(X.start_time.dt.day_of_week)['trip_id'].count()\n",
    "plt_trips_by_day = px.bar(trips_by_day)\n",
    "plt_trips_by_day.show()"
   ]
  },
  {
   "cell_type": "code",
   "execution_count": null,
   "id": "3e9b0372",
   "metadata": {},
   "outputs": [],
   "source": [
    "# Trip Starts by Hour of Day\n",
    "trips_by_hour = X.groupby(X.start_time.dt.hour)['trip_id'].count()\n",
    "plt_trips_by_hour = px.bar(trips_by_hour, template=\"simple_white\",\n",
    "                           labels={\n",
    "                               \"start_time\": \"Trip Start Time\"\n",
    "                           })\n",
    "plt_trips_by_hour.update_xaxes(tickformat=\"%H:%M\", dtick=\"H1\")\n",
    "plt_trips_by_hour.show()"
   ]
  },
  {
   "cell_type": "markdown",
   "id": "c47f32dc",
   "metadata": {},
   "source": [
    "## Statistics from Buffer Analysis in QGIS\n",
    "\n",
    "### Stations within 400m buffer of affected bike lanes\n",
    "- 211 stations out of 852\n",
    "- **24.77% of stations**\n",
    "\n",
    "### Bike capacity of stations within 400m buffer of affected bike lanes\n",
    "- 4419 bikes out of 16478\n",
    "- **26.82% of rental bikes**"
   ]
  },
  {
   "cell_type": "code",
   "execution_count": 7,
   "id": "9492784e",
   "metadata": {},
   "outputs": [
    {
     "name": "stdout",
     "output_type": "stream",
     "text": [
      "Percentage of trips to/from affected stations: \t57.63%\n",
      "Average trips per day affected: \t\t8,999\n"
     ]
    }
   ],
   "source": [
    "stations_in_400m_buffer = query_db('select station_id FROM stations_in_400m;')\n",
    "\n",
    "trips_affected_stations = X[\n",
    "    (X.start_station_id.isin(stations_in_400m_buffer.station_id)) |\n",
    "    (X.end_station_id.isin(stations_in_400m_buffer.station_id))\n",
    "]\n",
    "\n",
    "ratio_trips_affected = len(trips_affected_stations)/len(X)\n",
    "print(f'Percentage of trips to/from affected stations: \\t{ratio_trips_affected*100:.2f}%')\n",
    "print(f'Average trips per day affected: \\t\\t{mean_trips_per_day * ratio_trips_affected:,.0f}')\n",
    "\n"
   ]
  },
  {
   "cell_type": "code",
   "execution_count": 8,
   "id": "fcbda891",
   "metadata": {},
   "outputs": [
    {
     "name": "stdout",
     "output_type": "stream",
     "text": [
      "4326182 3457830 2203826\n",
      "14.0586009260782\n",
      "Average trips per day during the week during rush hour starting at or ending at stations near the affected lanes: 3,078\n"
     ]
    }
   ],
   "source": [
    "# Trips during rush hour - on weekdays\n",
    "X_rush_hour_weekdays = X_rush_hour_trips[X_rush_hour_trips.start_time.dt.day_of_week <=4]\n",
    "\n",
    "# Trips during rush hour - on weekdays - to/from stations within 400m of Bloor, Yonge, University\n",
    "X_rush_hour_weekdays_affected = X_rush_hour_weekdays[\n",
    "    (X_rush_hour_weekdays.start_station_id.isin(stations_in_400m_buffer.station_id)) |\n",
    "    (X_rush_hour_weekdays.end_station_id.isin(stations_in_400m_buffer.station_id)) \n",
    "]\n",
    "\n",
    "print(len(X_rush_hour_trips), len(X_rush_hour_weekdays), len(X_rush_hour_weekdays_affected))\n",
    "print(len(X_rush_hour_weekdays_affected)/len(X)*100)\n",
    "\n",
    "X_rush_hour_weekdays_affected_per_day = X_rush_hour_weekdays_affected.groupby(X_rush_hour_weekdays_affected.start_time.dt.date)['trip_id'].count()\n",
    "X_rush_hour_weekdays_affected_per_day = X_rush_hour_weekdays_affected_per_day.mean()\n",
    "print(f'Average trips per day during the week during rush hour starting at or ending at stations near the affected lanes: {X_rush_hour_weekdays_affected_per_day:,.0f}')"
   ]
  }
 ],
 "metadata": {
  "kernelspec": {
   "display_name": "Python 3",
   "language": "python",
   "name": "python3"
  },
  "language_info": {
   "codemirror_mode": {
    "name": "ipython",
    "version": 3
   },
   "file_extension": ".py",
   "mimetype": "text/x-python",
   "name": "python",
   "nbconvert_exporter": "python",
   "pygments_lexer": "ipython3",
   "version": "3.13.0"
  }
 },
 "nbformat": 4,
 "nbformat_minor": 5
}
