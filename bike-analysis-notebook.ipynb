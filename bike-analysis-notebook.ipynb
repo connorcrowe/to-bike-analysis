{
 "cells": [
  {
   "cell_type": "markdown",
   "id": "3f3d77ab-1b34-47f1-9350-fc23954c09e0",
   "metadata": {},
   "source": [
    "# Toronto Bike Share Analysis\n",
    "\n"
   ]
  },
  {
   "cell_type": "code",
   "execution_count": 34,
   "id": "45b4e16c-60f2-433e-b132-f5a74e40dccc",
   "metadata": {},
   "outputs": [
    {
     "name": "stdout",
     "output_type": "stream",
     "text": [
      "Environment variables loaded properly.\n"
     ]
    }
   ],
   "source": [
    "import os\n",
    "from dotenv import load_dotenv\n",
    "import psycopg\n",
    "from psycopg import sql, OperationalError, ProgrammingError, Error\n",
    "\n",
    "# Load Environment Variables\n",
    "load_dotenv()\n",
    "if os.environ['ENV_FLG']: print('Environment variables loaded properly.')\n",
    "else: print('ERROR: Environment variables failed to load.');"
   ]
  },
  {
   "cell_type": "code",
   "execution_count": 35,
   "id": "863d262d-9da2-4b55-a30e-ef03aea7bc9e",
   "metadata": {},
   "outputs": [],
   "source": [
    "def run_query(query):\n",
    "    \"\"\"\n",
    "    Queries the local PostgreSQL database containing bike share data.\n",
    "    Args:\n",
    "        query (string): SQL query to be executed\n",
    "    Returns:\n",
    "        result ([]): array of rows from the database\n",
    "    \"\"\"\n",
    "    try:\n",
    "        conn = psycopg.connect(\n",
    "            dbname = os.environ['DB_NAME'],\n",
    "            user = os.environ['DB_USER'],\n",
    "            password = os.environ['DB_PASS'],\n",
    "            host = os.environ['DB_HOST'],\n",
    "            port = os.environ['DB_PORT']\n",
    "        )\n",
    "        \n",
    "        cursor = conn.cursor()\n",
    "        cursor.execute(query)\n",
    "        rows = cursor.fetchall()\n",
    "        print(\"Connection successful\")\n",
    "\n",
    "    except ProgrammingError as e:\n",
    "        print(f\"ProgrammingError: Query error. Details: {e}\")\n",
    "    except Error as e:\n",
    "        print(f\"Database Error: An unexpected error occurred. Details: {e}\")\n",
    "    finally:\n",
    "        # Ensure resources are cleaned up\n",
    "        if 'cursor' in locals() and cursor is not None:\n",
    "            cursor.close()\n",
    "        if 'conn' in locals() and conn is not None:\n",
    "            conn.close()\n",
    "        return rows"
   ]
  },
  {
   "cell_type": "code",
   "execution_count": 36,
   "id": "f2a79866-ae80-474f-b446-bef95397a267",
   "metadata": {},
   "outputs": [
    {
     "name": "stdout",
     "output_type": "stream",
     "text": [
      "Connection successful\n"
     ]
    }
   ],
   "source": [
    "test = run_query(\"SELECT * FROM bike_trips LIMIT 5;\")"
   ]
  },
  {
   "cell_type": "code",
   "execution_count": null,
   "id": "022ece02-5b22-4b60-a268-d3197d8a763f",
   "metadata": {},
   "outputs": [],
   "source": []
  }
 ],
 "metadata": {
  "kernelspec": {
   "display_name": "Python 3 (ipykernel)",
   "language": "python",
   "name": "python3"
  },
  "language_info": {
   "codemirror_mode": {
    "name": "ipython",
    "version": 3
   },
   "file_extension": ".py",
   "mimetype": "text/x-python",
   "name": "python",
   "nbconvert_exporter": "python",
   "pygments_lexer": "ipython3",
   "version": "3.13.0"
  }
 },
 "nbformat": 4,
 "nbformat_minor": 5
}
